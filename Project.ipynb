{
 "cells": [
  {
   "cell_type": "code",
   "execution_count": 1,
   "id": "f51cf3fc",
   "metadata": {},
   "outputs": [],
   "source": [
    "## Imports ##\n",
    "\n",
    "import pandas as pd\n",
    "import numpy as np\n",
    "import seaborn as sns\n",
    "import matplotlib.pyplot as plt\n",
    "%matplotlib inline"
   ]
  },
  {
   "cell_type": "markdown",
   "id": "5fd8f212",
   "metadata": {},
   "source": [
    "# Customer segmentation problem"
   ]
  },
  {
   "cell_type": "markdown",
   "id": "f5695a1c",
   "metadata": {},
   "source": [
    "Company X needs help to identify which customers to approach with a Software product offering. In order not to spend time and money on the wrong customers, they need to come up with a model that best predicts potential buyers. These types of models are essential in modern day businesses where companies need to find the right target audience. The company has access to a data set with information about previous customers and whether they bought the Software product or not. The dataset contains the following variables:\n",
    "\n",
    "OrganisationNo - Customer Organisation Number.\n",
    "<br>\n",
    "LineDiscount - Customer Discount Agreement (Yes/No).\n",
    "<br>\n",
    "CustomerUnit - Customer Size Segmentation (Size of the company).\n",
    "<br>\n",
    "AccountManager - Name of the account manager.\n",
    "<br>\n",
    "Country - The country where the customer is located.\n",
    "<br>\n",
    "NoOfEmployees - Number of employees.\n",
    "<br>\n",
    "Potential - Customer IT spend potential.\n",
    "<br>\n",
    "AccessoryRatio - Share of accessories purchase.\n",
    "<br>\n",
    "NSB - Net sales (SEK).\n",
    "<br>\n",
    "CPLow - Customer profit (%).\n",
    "<br>\n",
    "Day - Days since last purchase.\n",
    "<br>\n",
    "TargetDays - Days since software purchase.\n",
    "<br>\n",
    "NoOfOrder - Number of orders.\n",
    "<br>\n",
    "Software - If the customer bought the software (Yes/No).\n",
    "<br>\n",
    "<br>\n",
    "<br>\n",
    "This is a binary classification problem where we want to predict wether a customer will buy a software product or not. We have labled data, and the column we want to predict is \"Software\". "
   ]
  },
  {
   "cell_type": "code",
   "execution_count": 2,
   "id": "ef915d24",
   "metadata": {},
   "outputs": [
    {
     "data": {
      "text/html": [
       "<div>\n",
       "<style scoped>\n",
       "    .dataframe tbody tr th:only-of-type {\n",
       "        vertical-align: middle;\n",
       "    }\n",
       "\n",
       "    .dataframe tbody tr th {\n",
       "        vertical-align: top;\n",
       "    }\n",
       "\n",
       "    .dataframe thead th {\n",
       "        text-align: right;\n",
       "    }\n",
       "</style>\n",
       "<table border=\"1\" class=\"dataframe\">\n",
       "  <thead>\n",
       "    <tr style=\"text-align: right;\">\n",
       "      <th></th>\n",
       "      <th>OrganisationNo</th>\n",
       "      <th>LineDiscount</th>\n",
       "      <th>CustomerUnit</th>\n",
       "      <th>AccountManager</th>\n",
       "      <th>Country</th>\n",
       "      <th>NoOfEmployees</th>\n",
       "      <th>Potential</th>\n",
       "      <th>AccessoryRatio</th>\n",
       "      <th>NSB</th>\n",
       "      <th>CPLow</th>\n",
       "      <th>Days</th>\n",
       "      <th>TargetDays</th>\n",
       "      <th>NrOfOrder</th>\n",
       "      <th>Software</th>\n",
       "    </tr>\n",
       "  </thead>\n",
       "  <tbody>\n",
       "    <tr>\n",
       "      <th>0</th>\n",
       "      <td>1</td>\n",
       "      <td>No</td>\n",
       "      <td>SMB Small</td>\n",
       "      <td>Unassigned_SE</td>\n",
       "      <td>Sweden</td>\n",
       "      <td>1.3</td>\n",
       "      <td>0.0</td>\n",
       "      <td>1.000000</td>\n",
       "      <td>4399.00</td>\n",
       "      <td>25.113435</td>\n",
       "      <td>518</td>\n",
       "      <td>NaN</td>\n",
       "      <td>1</td>\n",
       "      <td>No</td>\n",
       "    </tr>\n",
       "    <tr>\n",
       "      <th>1</th>\n",
       "      <td>2</td>\n",
       "      <td>No</td>\n",
       "      <td>SMB Small</td>\n",
       "      <td>Not Defined</td>\n",
       "      <td>Finland</td>\n",
       "      <td>1.8</td>\n",
       "      <td>0.0</td>\n",
       "      <td>0.320656</td>\n",
       "      <td>873.24</td>\n",
       "      <td>19.260455</td>\n",
       "      <td>432</td>\n",
       "      <td>NaN</td>\n",
       "      <td>1</td>\n",
       "      <td>No</td>\n",
       "    </tr>\n",
       "    <tr>\n",
       "      <th>2</th>\n",
       "      <td>3</td>\n",
       "      <td>No</td>\n",
       "      <td>SMB Small</td>\n",
       "      <td>Unassigned_SE</td>\n",
       "      <td>Sweden</td>\n",
       "      <td>1.8</td>\n",
       "      <td>16956.0</td>\n",
       "      <td>0.053654</td>\n",
       "      <td>22272.00</td>\n",
       "      <td>13.261764</td>\n",
       "      <td>173</td>\n",
       "      <td>NaN</td>\n",
       "      <td>2</td>\n",
       "      <td>No</td>\n",
       "    </tr>\n",
       "    <tr>\n",
       "      <th>3</th>\n",
       "      <td>4</td>\n",
       "      <td>Yes</td>\n",
       "      <td>Corporate</td>\n",
       "      <td>Jan Tufvander</td>\n",
       "      <td>Sweden</td>\n",
       "      <td>49.9</td>\n",
       "      <td>448601.0</td>\n",
       "      <td>0.607573</td>\n",
       "      <td>44568.89</td>\n",
       "      <td>10.066057</td>\n",
       "      <td>4</td>\n",
       "      <td>NaN</td>\n",
       "      <td>41</td>\n",
       "      <td>No</td>\n",
       "    </tr>\n",
       "    <tr>\n",
       "      <th>4</th>\n",
       "      <td>5</td>\n",
       "      <td>No</td>\n",
       "      <td>SMB Mid</td>\n",
       "      <td>Unassigned_NO</td>\n",
       "      <td>Norway</td>\n",
       "      <td>68.0</td>\n",
       "      <td>0.0</td>\n",
       "      <td>0.000000</td>\n",
       "      <td>975.06</td>\n",
       "      <td>35.340389</td>\n",
       "      <td>704</td>\n",
       "      <td>NaN</td>\n",
       "      <td>1</td>\n",
       "      <td>No</td>\n",
       "    </tr>\n",
       "    <tr>\n",
       "      <th>5</th>\n",
       "      <td>6</td>\n",
       "      <td>No</td>\n",
       "      <td>SMB Small</td>\n",
       "      <td>Unassigned_SE</td>\n",
       "      <td>Sweden</td>\n",
       "      <td>1.8</td>\n",
       "      <td>0.0</td>\n",
       "      <td>0.000000</td>\n",
       "      <td>8194.00</td>\n",
       "      <td>10.240908</td>\n",
       "      <td>627</td>\n",
       "      <td>NaN</td>\n",
       "      <td>2</td>\n",
       "      <td>No</td>\n",
       "    </tr>\n",
       "    <tr>\n",
       "      <th>6</th>\n",
       "      <td>7</td>\n",
       "      <td>No</td>\n",
       "      <td>SMB Small</td>\n",
       "      <td>Unassigned_SE</td>\n",
       "      <td>Sweden</td>\n",
       "      <td>6.5</td>\n",
       "      <td>0.0</td>\n",
       "      <td>0.311970</td>\n",
       "      <td>36324.00</td>\n",
       "      <td>13.697555</td>\n",
       "      <td>589</td>\n",
       "      <td>NaN</td>\n",
       "      <td>7</td>\n",
       "      <td>No</td>\n",
       "    </tr>\n",
       "    <tr>\n",
       "      <th>7</th>\n",
       "      <td>8</td>\n",
       "      <td>No</td>\n",
       "      <td>SMB Small</td>\n",
       "      <td>Unassigned_SE</td>\n",
       "      <td>Sweden</td>\n",
       "      <td>1.3</td>\n",
       "      <td>0.0</td>\n",
       "      <td>0.000000</td>\n",
       "      <td>8999.00</td>\n",
       "      <td>4.162574</td>\n",
       "      <td>607</td>\n",
       "      <td>NaN</td>\n",
       "      <td>1</td>\n",
       "      <td>No</td>\n",
       "    </tr>\n",
       "    <tr>\n",
       "      <th>8</th>\n",
       "      <td>9</td>\n",
       "      <td>No</td>\n",
       "      <td>SMB Small</td>\n",
       "      <td>Unassigned_SE</td>\n",
       "      <td>Sweden</td>\n",
       "      <td>1.8</td>\n",
       "      <td>15102.0</td>\n",
       "      <td>0.077282</td>\n",
       "      <td>47203.64</td>\n",
       "      <td>8.445726</td>\n",
       "      <td>179</td>\n",
       "      <td>875.0</td>\n",
       "      <td>15</td>\n",
       "      <td>Yes</td>\n",
       "    </tr>\n",
       "    <tr>\n",
       "      <th>9</th>\n",
       "      <td>10</td>\n",
       "      <td>No</td>\n",
       "      <td>SMB Small</td>\n",
       "      <td>Unassigned_DK</td>\n",
       "      <td>Denmark</td>\n",
       "      <td>6.5</td>\n",
       "      <td>0.0</td>\n",
       "      <td>0.001645</td>\n",
       "      <td>53682.22</td>\n",
       "      <td>8.573137</td>\n",
       "      <td>482</td>\n",
       "      <td>482.0</td>\n",
       "      <td>4</td>\n",
       "      <td>Yes</td>\n",
       "    </tr>\n",
       "  </tbody>\n",
       "</table>\n",
       "</div>"
      ],
      "text/plain": [
       "   OrganisationNo LineDiscount CustomerUnit AccountManager  Country  \\\n",
       "0               1           No    SMB Small  Unassigned_SE   Sweden   \n",
       "1               2           No    SMB Small    Not Defined  Finland   \n",
       "2               3           No    SMB Small  Unassigned_SE   Sweden   \n",
       "3               4          Yes    Corporate  Jan Tufvander   Sweden   \n",
       "4               5           No      SMB Mid  Unassigned_NO   Norway   \n",
       "5               6           No    SMB Small  Unassigned_SE   Sweden   \n",
       "6               7           No    SMB Small  Unassigned_SE   Sweden   \n",
       "7               8           No    SMB Small  Unassigned_SE   Sweden   \n",
       "8               9           No    SMB Small  Unassigned_SE   Sweden   \n",
       "9              10           No    SMB Small  Unassigned_DK  Denmark   \n",
       "\n",
       "   NoOfEmployees  Potential  AccessoryRatio       NSB      CPLow  Days  \\\n",
       "0            1.3        0.0        1.000000   4399.00  25.113435   518   \n",
       "1            1.8        0.0        0.320656    873.24  19.260455   432   \n",
       "2            1.8    16956.0        0.053654  22272.00  13.261764   173   \n",
       "3           49.9   448601.0        0.607573  44568.89  10.066057     4   \n",
       "4           68.0        0.0        0.000000    975.06  35.340389   704   \n",
       "5            1.8        0.0        0.000000   8194.00  10.240908   627   \n",
       "6            6.5        0.0        0.311970  36324.00  13.697555   589   \n",
       "7            1.3        0.0        0.000000   8999.00   4.162574   607   \n",
       "8            1.8    15102.0        0.077282  47203.64   8.445726   179   \n",
       "9            6.5        0.0        0.001645  53682.22   8.573137   482   \n",
       "\n",
       "   TargetDays  NrOfOrder Software  \n",
       "0         NaN          1       No  \n",
       "1         NaN          1       No  \n",
       "2         NaN          2       No  \n",
       "3         NaN         41       No  \n",
       "4         NaN          1       No  \n",
       "5         NaN          2       No  \n",
       "6         NaN          7       No  \n",
       "7         NaN          1       No  \n",
       "8       875.0         15      Yes  \n",
       "9       482.0          4      Yes  "
      ]
     },
     "execution_count": 2,
     "metadata": {},
     "output_type": "execute_result"
    }
   ],
   "source": [
    "data = pd.read_excel('dataset.xlsx')\n",
    "data.head(10)"
   ]
  },
  {
   "cell_type": "markdown",
   "id": "a405a3c2",
   "metadata": {},
   "source": [
    "# Exploratory Data Analysis"
   ]
  },
  {
   "cell_type": "markdown",
   "id": "e74506a6",
   "metadata": {},
   "source": [
    "The dataset has 14 columns and 20 122 observations"
   ]
  },
  {
   "cell_type": "code",
   "execution_count": 3,
   "id": "51351706",
   "metadata": {},
   "outputs": [
    {
     "data": {
      "text/plain": [
       "(20122, 14)"
      ]
     },
     "execution_count": 3,
     "metadata": {},
     "output_type": "execute_result"
    }
   ],
   "source": [
    "data.shape"
   ]
  },
  {
   "cell_type": "markdown",
   "id": "d7dd9172",
   "metadata": {},
   "source": [
    "I check if there are any duplicates in the data."
   ]
  },
  {
   "cell_type": "code",
   "execution_count": 4,
   "id": "5abc27ea",
   "metadata": {},
   "outputs": [
    {
     "data": {
      "text/html": [
       "<div>\n",
       "<style scoped>\n",
       "    .dataframe tbody tr th:only-of-type {\n",
       "        vertical-align: middle;\n",
       "    }\n",
       "\n",
       "    .dataframe tbody tr th {\n",
       "        vertical-align: top;\n",
       "    }\n",
       "\n",
       "    .dataframe thead th {\n",
       "        text-align: right;\n",
       "    }\n",
       "</style>\n",
       "<table border=\"1\" class=\"dataframe\">\n",
       "  <thead>\n",
       "    <tr style=\"text-align: right;\">\n",
       "      <th></th>\n",
       "      <th>OrganisationNo</th>\n",
       "      <th>LineDiscount</th>\n",
       "      <th>CustomerUnit</th>\n",
       "      <th>AccountManager</th>\n",
       "      <th>Country</th>\n",
       "      <th>NoOfEmployees</th>\n",
       "      <th>Potential</th>\n",
       "      <th>AccessoryRatio</th>\n",
       "      <th>NSB</th>\n",
       "      <th>CPLow</th>\n",
       "      <th>Days</th>\n",
       "      <th>TargetDays</th>\n",
       "      <th>NrOfOrder</th>\n",
       "      <th>Software</th>\n",
       "    </tr>\n",
       "  </thead>\n",
       "  <tbody>\n",
       "  </tbody>\n",
       "</table>\n",
       "</div>"
      ],
      "text/plain": [
       "Empty DataFrame\n",
       "Columns: [OrganisationNo, LineDiscount, CustomerUnit, AccountManager, Country, NoOfEmployees, Potential, AccessoryRatio, NSB, CPLow, Days, TargetDays, NrOfOrder, Software]\n",
       "Index: []"
      ]
     },
     "execution_count": 4,
     "metadata": {},
     "output_type": "execute_result"
    }
   ],
   "source": [
    "data[data.duplicated()]"
   ]
  },
  {
   "cell_type": "markdown",
   "id": "136b3914",
   "metadata": {},
   "source": [
    "## Missing values"
   ]
  },
  {
   "cell_type": "markdown",
   "id": "9d622568",
   "metadata": {},
   "source": [
    "I will begin to explore if we have any missing values in the dataset."
   ]
  },
  {
   "cell_type": "code",
   "execution_count": 5,
   "id": "9feb7193",
   "metadata": {},
   "outputs": [
    {
     "data": {
      "text/plain": [
       "OrganisationNo        0\n",
       "LineDiscount          0\n",
       "CustomerUnit          1\n",
       "AccountManager        0\n",
       "Country               0\n",
       "NoOfEmployees         0\n",
       "Potential             0\n",
       "AccessoryRatio        0\n",
       "NSB                   0\n",
       "CPLow                 0\n",
       "Days                  0\n",
       "TargetDays        16609\n",
       "NrOfOrder             0\n",
       "Software              0\n",
       "dtype: int64"
      ]
     },
     "execution_count": 5,
     "metadata": {},
     "output_type": "execute_result"
    }
   ],
   "source": [
    "data.isna().sum()"
   ]
  },
  {
   "cell_type": "markdown",
   "id": "d54eb0a3",
   "metadata": {},
   "source": [
    "The column TargetDays is missing a majority of its values. TargetDays tells us how many days since the customer purchased the Software product, so if the customer never purcahsed the product this column will have a missing value. I will drop this column because it contains to many missing values and also because it will be directly correlated with the column we want to predict, \"Software\", since it will contain a numeric value if the customer bought the Software product and NA otherwise. \n",
    "\n",
    "The column CustomerUnit only has one missing value. I choose to drop that observation. Finally, I also choose to drop the column OrganisationNo since it is only a variable indicating what customer each observation belongs to."
   ]
  },
  {
   "cell_type": "code",
   "execution_count": 6,
   "id": "1edf680f",
   "metadata": {},
   "outputs": [],
   "source": [
    "data = data.drop(columns = ['OrganisationNo', 'TargetDays'])\n",
    "data = data.dropna().reset_index(drop = True)"
   ]
  },
  {
   "cell_type": "markdown",
   "id": "fd9ccedf",
   "metadata": {},
   "source": [
    "Now the datset has 12 columns and 20 121 observations."
   ]
  },
  {
   "cell_type": "code",
   "execution_count": 7,
   "id": "52dfb80a",
   "metadata": {},
   "outputs": [
    {
     "data": {
      "text/plain": [
       "(20121, 12)"
      ]
     },
     "execution_count": 7,
     "metadata": {},
     "output_type": "execute_result"
    }
   ],
   "source": [
    "data.shape"
   ]
  },
  {
   "cell_type": "markdown",
   "id": "356762c4",
   "metadata": {},
   "source": [
    "## Data types"
   ]
  },
  {
   "cell_type": "markdown",
   "id": "9ed83688",
   "metadata": {},
   "source": [
    "I will now look at the different data types."
   ]
  },
  {
   "cell_type": "code",
   "execution_count": 8,
   "id": "66784dab",
   "metadata": {},
   "outputs": [
    {
     "data": {
      "text/plain": [
       "LineDiscount       object\n",
       "CustomerUnit       object\n",
       "AccountManager     object\n",
       "Country            object\n",
       "NoOfEmployees     float64\n",
       "Potential         float64\n",
       "AccessoryRatio    float64\n",
       "NSB               float64\n",
       "CPLow             float64\n",
       "Days                int64\n",
       "NrOfOrder           int64\n",
       "Software           object\n",
       "dtype: object"
      ]
     },
     "execution_count": 8,
     "metadata": {},
     "output_type": "execute_result"
    }
   ],
   "source": [
    "data.dtypes"
   ]
  },
  {
   "cell_type": "markdown",
   "id": "be4eabae",
   "metadata": {},
   "source": [
    "### Numeric variables"
   ]
  },
  {
   "cell_type": "markdown",
   "id": "701db787",
   "metadata": {},
   "source": [
    "First, I will look at the numeric variables."
   ]
  },
  {
   "cell_type": "code",
   "execution_count": 9,
   "id": "30c422f1",
   "metadata": {},
   "outputs": [
    {
     "data": {
      "text/html": [
       "<div>\n",
       "<style scoped>\n",
       "    .dataframe tbody tr th:only-of-type {\n",
       "        vertical-align: middle;\n",
       "    }\n",
       "\n",
       "    .dataframe tbody tr th {\n",
       "        vertical-align: top;\n",
       "    }\n",
       "\n",
       "    .dataframe thead th {\n",
       "        text-align: right;\n",
       "    }\n",
       "</style>\n",
       "<table border=\"1\" class=\"dataframe\">\n",
       "  <thead>\n",
       "    <tr style=\"text-align: right;\">\n",
       "      <th></th>\n",
       "      <th>NoOfEmployees</th>\n",
       "      <th>Potential</th>\n",
       "      <th>AccessoryRatio</th>\n",
       "      <th>NSB</th>\n",
       "      <th>CPLow</th>\n",
       "      <th>Days</th>\n",
       "      <th>NrOfOrder</th>\n",
       "    </tr>\n",
       "  </thead>\n",
       "  <tbody>\n",
       "    <tr>\n",
       "      <th>count</th>\n",
       "      <td>20121.000000</td>\n",
       "      <td>2.012100e+04</td>\n",
       "      <td>20121.000000</td>\n",
       "      <td>2.012100e+04</td>\n",
       "      <td>2.012100e+04</td>\n",
       "      <td>20121.000000</td>\n",
       "      <td>20121.000000</td>\n",
       "    </tr>\n",
       "    <tr>\n",
       "      <th>mean</th>\n",
       "      <td>109.872715</td>\n",
       "      <td>1.041357e+06</td>\n",
       "      <td>0.284309</td>\n",
       "      <td>1.637452e+05</td>\n",
       "      <td>4.911784e+11</td>\n",
       "      <td>248.159336</td>\n",
       "      <td>17.990010</td>\n",
       "    </tr>\n",
       "    <tr>\n",
       "      <th>std</th>\n",
       "      <td>988.155128</td>\n",
       "      <td>9.739245e+06</td>\n",
       "      <td>0.331148</td>\n",
       "      <td>2.349407e+06</td>\n",
       "      <td>6.575739e+13</td>\n",
       "      <td>218.141672</td>\n",
       "      <td>129.767426</td>\n",
       "    </tr>\n",
       "    <tr>\n",
       "      <th>min</th>\n",
       "      <td>-1.000000</td>\n",
       "      <td>0.000000e+00</td>\n",
       "      <td>0.000000</td>\n",
       "      <td>1.820000e-12</td>\n",
       "      <td>5.290000e-03</td>\n",
       "      <td>1.000000</td>\n",
       "      <td>1.000000</td>\n",
       "    </tr>\n",
       "    <tr>\n",
       "      <th>25%</th>\n",
       "      <td>1.800000</td>\n",
       "      <td>0.000000e+00</td>\n",
       "      <td>0.019782</td>\n",
       "      <td>3.911710e+03</td>\n",
       "      <td>8.914708e+00</td>\n",
       "      <td>49.000000</td>\n",
       "      <td>1.000000</td>\n",
       "    </tr>\n",
       "    <tr>\n",
       "      <th>50%</th>\n",
       "      <td>1.800000</td>\n",
       "      <td>1.960200e+04</td>\n",
       "      <td>0.156450</td>\n",
       "      <td>1.274600e+04</td>\n",
       "      <td>1.236654e+01</td>\n",
       "      <td>195.000000</td>\n",
       "      <td>3.000000</td>\n",
       "    </tr>\n",
       "    <tr>\n",
       "      <th>75%</th>\n",
       "      <td>13.400000</td>\n",
       "      <td>1.262280e+05</td>\n",
       "      <td>0.396909</td>\n",
       "      <td>4.551000e+04</td>\n",
       "      <td>1.761320e+01</td>\n",
       "      <td>400.000000</td>\n",
       "      <td>8.000000</td>\n",
       "    </tr>\n",
       "    <tr>\n",
       "      <th>max</th>\n",
       "      <td>49464.100000</td>\n",
       "      <td>4.459925e+08</td>\n",
       "      <td>1.537065</td>\n",
       "      <td>2.811631e+08</td>\n",
       "      <td>9.310000e+15</td>\n",
       "      <td>1076.000000</td>\n",
       "      <td>11018.000000</td>\n",
       "    </tr>\n",
       "  </tbody>\n",
       "</table>\n",
       "</div>"
      ],
      "text/plain": [
       "       NoOfEmployees     Potential  AccessoryRatio           NSB  \\\n",
       "count   20121.000000  2.012100e+04    20121.000000  2.012100e+04   \n",
       "mean      109.872715  1.041357e+06        0.284309  1.637452e+05   \n",
       "std       988.155128  9.739245e+06        0.331148  2.349407e+06   \n",
       "min        -1.000000  0.000000e+00        0.000000  1.820000e-12   \n",
       "25%         1.800000  0.000000e+00        0.019782  3.911710e+03   \n",
       "50%         1.800000  1.960200e+04        0.156450  1.274600e+04   \n",
       "75%        13.400000  1.262280e+05        0.396909  4.551000e+04   \n",
       "max     49464.100000  4.459925e+08        1.537065  2.811631e+08   \n",
       "\n",
       "              CPLow          Days     NrOfOrder  \n",
       "count  2.012100e+04  20121.000000  20121.000000  \n",
       "mean   4.911784e+11    248.159336     17.990010  \n",
       "std    6.575739e+13    218.141672    129.767426  \n",
       "min    5.290000e-03      1.000000      1.000000  \n",
       "25%    8.914708e+00     49.000000      1.000000  \n",
       "50%    1.236654e+01    195.000000      3.000000  \n",
       "75%    1.761320e+01    400.000000      8.000000  \n",
       "max    9.310000e+15   1076.000000  11018.000000  "
      ]
     },
     "execution_count": 9,
     "metadata": {},
     "output_type": "execute_result"
    }
   ],
   "source": [
    "data.describe()"
   ]
  },
  {
   "cell_type": "markdown",
   "id": "8d24760e",
   "metadata": {},
   "source": [
    "The variable NoOfEmployees have values that is not an integer, and I believe it makes more sense that the number of employees of a company is an integer. Also, the variable NoOfEmplyees have the value -1 for some customers. I choose to round all values to the closest integer and I change all -1's to 0 (I suspect that -1 means that the customer has 0 employees). "
   ]
  },
  {
   "cell_type": "code",
   "execution_count": 10,
   "id": "fabf9864",
   "metadata": {},
   "outputs": [],
   "source": [
    "data['NoOfEmployees'] = data['NoOfEmployees'].round()\n",
    "data['NoOfEmployees'] = data['NoOfEmployees'].replace(-1, 0)"
   ]
  },
  {
   "cell_type": "markdown",
   "id": "8586754b",
   "metadata": {},
   "source": [
    "The variable AccessoryRatio have values greater than 1 which does not make sense since it is a ratio. I choose to remove the observations that has a Accessory ration greater than 1."
   ]
  },
  {
   "cell_type": "code",
   "execution_count": 11,
   "id": "1ef22c0e",
   "metadata": {},
   "outputs": [
    {
     "data": {
      "text/html": [
       "<div>\n",
       "<style scoped>\n",
       "    .dataframe tbody tr th:only-of-type {\n",
       "        vertical-align: middle;\n",
       "    }\n",
       "\n",
       "    .dataframe tbody tr th {\n",
       "        vertical-align: top;\n",
       "    }\n",
       "\n",
       "    .dataframe thead th {\n",
       "        text-align: right;\n",
       "    }\n",
       "</style>\n",
       "<table border=\"1\" class=\"dataframe\">\n",
       "  <thead>\n",
       "    <tr style=\"text-align: right;\">\n",
       "      <th></th>\n",
       "      <th>LineDiscount</th>\n",
       "      <th>CustomerUnit</th>\n",
       "      <th>AccountManager</th>\n",
       "      <th>Country</th>\n",
       "      <th>NoOfEmployees</th>\n",
       "      <th>Potential</th>\n",
       "      <th>AccessoryRatio</th>\n",
       "      <th>NSB</th>\n",
       "      <th>CPLow</th>\n",
       "      <th>Days</th>\n",
       "      <th>NrOfOrder</th>\n",
       "      <th>Software</th>\n",
       "    </tr>\n",
       "  </thead>\n",
       "  <tbody>\n",
       "    <tr>\n",
       "      <th>1014</th>\n",
       "      <td>No</td>\n",
       "      <td>SMB Small</td>\n",
       "      <td>Unassigned_NO</td>\n",
       "      <td>Norway</td>\n",
       "      <td>1.0</td>\n",
       "      <td>7280.0</td>\n",
       "      <td>1.007461</td>\n",
       "      <td>1931.37</td>\n",
       "      <td>34.509183</td>\n",
       "      <td>53</td>\n",
       "      <td>2</td>\n",
       "      <td>No</td>\n",
       "    </tr>\n",
       "    <tr>\n",
       "      <th>5428</th>\n",
       "      <td>No</td>\n",
       "      <td>SMB Small</td>\n",
       "      <td>Unassigned_NO</td>\n",
       "      <td>Norway</td>\n",
       "      <td>0.0</td>\n",
       "      <td>0.0</td>\n",
       "      <td>1.033137</td>\n",
       "      <td>221.80</td>\n",
       "      <td>78.106402</td>\n",
       "      <td>532</td>\n",
       "      <td>6</td>\n",
       "      <td>No</td>\n",
       "    </tr>\n",
       "    <tr>\n",
       "      <th>5676</th>\n",
       "      <td>No</td>\n",
       "      <td>SMB Small</td>\n",
       "      <td>Unassigned_DK</td>\n",
       "      <td>Denmark</td>\n",
       "      <td>2.0</td>\n",
       "      <td>0.0</td>\n",
       "      <td>1.001601</td>\n",
       "      <td>3121.39</td>\n",
       "      <td>10.180721</td>\n",
       "      <td>515</td>\n",
       "      <td>3</td>\n",
       "      <td>No</td>\n",
       "    </tr>\n",
       "    <tr>\n",
       "      <th>6872</th>\n",
       "      <td>No</td>\n",
       "      <td>SMB Small</td>\n",
       "      <td>Unassigned_DK</td>\n",
       "      <td>Denmark</td>\n",
       "      <td>2.0</td>\n",
       "      <td>0.0</td>\n",
       "      <td>1.038384</td>\n",
       "      <td>866.49</td>\n",
       "      <td>11.827026</td>\n",
       "      <td>410</td>\n",
       "      <td>7</td>\n",
       "      <td>No</td>\n",
       "    </tr>\n",
       "    <tr>\n",
       "      <th>7852</th>\n",
       "      <td>No</td>\n",
       "      <td>SMB Small</td>\n",
       "      <td>Unassigned_SE</td>\n",
       "      <td>Sweden</td>\n",
       "      <td>13.0</td>\n",
       "      <td>157182.0</td>\n",
       "      <td>1.036201</td>\n",
       "      <td>152.48</td>\n",
       "      <td>30.653200</td>\n",
       "      <td>126</td>\n",
       "      <td>2</td>\n",
       "      <td>No</td>\n",
       "    </tr>\n",
       "    <tr>\n",
       "      <th>8946</th>\n",
       "      <td>No</td>\n",
       "      <td>Public</td>\n",
       "      <td>Michael Haagen Petersen</td>\n",
       "      <td>Denmark</td>\n",
       "      <td>30.0</td>\n",
       "      <td>305400.0</td>\n",
       "      <td>1.004659</td>\n",
       "      <td>19736.46</td>\n",
       "      <td>31.887583</td>\n",
       "      <td>200</td>\n",
       "      <td>5</td>\n",
       "      <td>No</td>\n",
       "    </tr>\n",
       "    <tr>\n",
       "      <th>13856</th>\n",
       "      <td>No</td>\n",
       "      <td>SMB Mid</td>\n",
       "      <td>Unassigned_DK</td>\n",
       "      <td>Denmark</td>\n",
       "      <td>43.0</td>\n",
       "      <td>1138509.0</td>\n",
       "      <td>1.058904</td>\n",
       "      <td>2215.79</td>\n",
       "      <td>24.245529</td>\n",
       "      <td>246</td>\n",
       "      <td>6</td>\n",
       "      <td>No</td>\n",
       "    </tr>\n",
       "    <tr>\n",
       "      <th>15250</th>\n",
       "      <td>Yes</td>\n",
       "      <td>Corporate</td>\n",
       "      <td>Lasse Pettersen</td>\n",
       "      <td>Norway</td>\n",
       "      <td>279.0</td>\n",
       "      <td>0.0</td>\n",
       "      <td>1.537065</td>\n",
       "      <td>6030.27</td>\n",
       "      <td>19.271111</td>\n",
       "      <td>414</td>\n",
       "      <td>3</td>\n",
       "      <td>No</td>\n",
       "    </tr>\n",
       "    <tr>\n",
       "      <th>17633</th>\n",
       "      <td>No</td>\n",
       "      <td>SMB Small</td>\n",
       "      <td>Unassigned_DK</td>\n",
       "      <td>Denmark</td>\n",
       "      <td>1.0</td>\n",
       "      <td>0.0</td>\n",
       "      <td>1.010070</td>\n",
       "      <td>3054.60</td>\n",
       "      <td>11.268251</td>\n",
       "      <td>580</td>\n",
       "      <td>3</td>\n",
       "      <td>No</td>\n",
       "    </tr>\n",
       "  </tbody>\n",
       "</table>\n",
       "</div>"
      ],
      "text/plain": [
       "      LineDiscount CustomerUnit           AccountManager  Country  \\\n",
       "1014            No    SMB Small            Unassigned_NO   Norway   \n",
       "5428            No    SMB Small            Unassigned_NO   Norway   \n",
       "5676            No    SMB Small            Unassigned_DK  Denmark   \n",
       "6872            No    SMB Small            Unassigned_DK  Denmark   \n",
       "7852            No    SMB Small            Unassigned_SE   Sweden   \n",
       "8946            No       Public  Michael Haagen Petersen  Denmark   \n",
       "13856           No      SMB Mid            Unassigned_DK  Denmark   \n",
       "15250          Yes    Corporate          Lasse Pettersen   Norway   \n",
       "17633           No    SMB Small            Unassigned_DK  Denmark   \n",
       "\n",
       "       NoOfEmployees  Potential  AccessoryRatio       NSB      CPLow  Days  \\\n",
       "1014             1.0     7280.0        1.007461   1931.37  34.509183    53   \n",
       "5428             0.0        0.0        1.033137    221.80  78.106402   532   \n",
       "5676             2.0        0.0        1.001601   3121.39  10.180721   515   \n",
       "6872             2.0        0.0        1.038384    866.49  11.827026   410   \n",
       "7852            13.0   157182.0        1.036201    152.48  30.653200   126   \n",
       "8946            30.0   305400.0        1.004659  19736.46  31.887583   200   \n",
       "13856           43.0  1138509.0        1.058904   2215.79  24.245529   246   \n",
       "15250          279.0        0.0        1.537065   6030.27  19.271111   414   \n",
       "17633            1.0        0.0        1.010070   3054.60  11.268251   580   \n",
       "\n",
       "       NrOfOrder Software  \n",
       "1014           2       No  \n",
       "5428           6       No  \n",
       "5676           3       No  \n",
       "6872           7       No  \n",
       "7852           2       No  \n",
       "8946           5       No  \n",
       "13856          6       No  \n",
       "15250          3       No  \n",
       "17633          3       No  "
      ]
     },
     "execution_count": 11,
     "metadata": {},
     "output_type": "execute_result"
    }
   ],
   "source": [
    "data[data['AccessoryRatio'] > 1]"
   ]
  },
  {
   "cell_type": "code",
   "execution_count": 12,
   "id": "bd616c1b",
   "metadata": {},
   "outputs": [],
   "source": [
    "data = data[data['AccessoryRatio'] <=1].reset_index(drop = True)"
   ]
  },
  {
   "cell_type": "markdown",
   "id": "29219d55",
   "metadata": {},
   "source": [
    "For all numeric variables we have some extreme values, these are values that are much larger than the median. In this dataset it makes sense that some customers have much larger values for NoOfEmployees, Potential, NSB and NrOfOrder since these depend on the size of the company. For example, looking at some customers with more than 2 million in net sales, they all have hight values in NoOfEmployees, Potetial and NrOfOrder."
   ]
  },
  {
   "cell_type": "code",
   "execution_count": 13,
   "id": "c84c5d8a",
   "metadata": {},
   "outputs": [
    {
     "data": {
      "text/html": [
       "<div>\n",
       "<style scoped>\n",
       "    .dataframe tbody tr th:only-of-type {\n",
       "        vertical-align: middle;\n",
       "    }\n",
       "\n",
       "    .dataframe tbody tr th {\n",
       "        vertical-align: top;\n",
       "    }\n",
       "\n",
       "    .dataframe thead th {\n",
       "        text-align: right;\n",
       "    }\n",
       "</style>\n",
       "<table border=\"1\" class=\"dataframe\">\n",
       "  <thead>\n",
       "    <tr style=\"text-align: right;\">\n",
       "      <th></th>\n",
       "      <th>LineDiscount</th>\n",
       "      <th>CustomerUnit</th>\n",
       "      <th>AccountManager</th>\n",
       "      <th>Country</th>\n",
       "      <th>NoOfEmployees</th>\n",
       "      <th>Potential</th>\n",
       "      <th>AccessoryRatio</th>\n",
       "      <th>NSB</th>\n",
       "      <th>CPLow</th>\n",
       "      <th>Days</th>\n",
       "      <th>NrOfOrder</th>\n",
       "      <th>Software</th>\n",
       "    </tr>\n",
       "  </thead>\n",
       "  <tbody>\n",
       "    <tr>\n",
       "      <th>58</th>\n",
       "      <td>Yes</td>\n",
       "      <td>Public</td>\n",
       "      <td>Matias Lohtander</td>\n",
       "      <td>Finland</td>\n",
       "      <td>932.0</td>\n",
       "      <td>894184.02</td>\n",
       "      <td>0.154561</td>\n",
       "      <td>4595239.07</td>\n",
       "      <td>4.665007</td>\n",
       "      <td>5</td>\n",
       "      <td>17</td>\n",
       "      <td>No</td>\n",
       "    </tr>\n",
       "    <tr>\n",
       "      <th>76</th>\n",
       "      <td>Yes</td>\n",
       "      <td>Public</td>\n",
       "      <td>Rasmus Winther</td>\n",
       "      <td>Denmark</td>\n",
       "      <td>1656.0</td>\n",
       "      <td>19361310.00</td>\n",
       "      <td>0.245075</td>\n",
       "      <td>8248682.32</td>\n",
       "      <td>4.345662</td>\n",
       "      <td>12</td>\n",
       "      <td>342</td>\n",
       "      <td>Yes</td>\n",
       "    </tr>\n",
       "    <tr>\n",
       "      <th>185</th>\n",
       "      <td>Yes</td>\n",
       "      <td>Public</td>\n",
       "      <td>Erik Markusson</td>\n",
       "      <td>Sweden</td>\n",
       "      <td>7611.0</td>\n",
       "      <td>68674149.97</td>\n",
       "      <td>0.073211</td>\n",
       "      <td>42934480.52</td>\n",
       "      <td>1.957098</td>\n",
       "      <td>1</td>\n",
       "      <td>1721</td>\n",
       "      <td>Yes</td>\n",
       "    </tr>\n",
       "    <tr>\n",
       "      <th>433</th>\n",
       "      <td>Yes</td>\n",
       "      <td>Public</td>\n",
       "      <td>Lasse Pettersen</td>\n",
       "      <td>Norway</td>\n",
       "      <td>2556.0</td>\n",
       "      <td>21012465.00</td>\n",
       "      <td>0.162918</td>\n",
       "      <td>2241556.43</td>\n",
       "      <td>2.696011</td>\n",
       "      <td>1</td>\n",
       "      <td>122</td>\n",
       "      <td>No</td>\n",
       "    </tr>\n",
       "    <tr>\n",
       "      <th>458</th>\n",
       "      <td>Yes</td>\n",
       "      <td>Corporate</td>\n",
       "      <td>Henrik Åqvist</td>\n",
       "      <td>Norway</td>\n",
       "      <td>1840.0</td>\n",
       "      <td>22590288.00</td>\n",
       "      <td>0.140020</td>\n",
       "      <td>25009054.49</td>\n",
       "      <td>5.312397</td>\n",
       "      <td>1</td>\n",
       "      <td>2522</td>\n",
       "      <td>Yes</td>\n",
       "    </tr>\n",
       "  </tbody>\n",
       "</table>\n",
       "</div>"
      ],
      "text/plain": [
       "    LineDiscount CustomerUnit    AccountManager  Country  NoOfEmployees  \\\n",
       "58           Yes       Public  Matias Lohtander  Finland          932.0   \n",
       "76           Yes       Public    Rasmus Winther  Denmark         1656.0   \n",
       "185          Yes       Public    Erik Markusson   Sweden         7611.0   \n",
       "433          Yes       Public   Lasse Pettersen   Norway         2556.0   \n",
       "458          Yes    Corporate     Henrik Åqvist   Norway         1840.0   \n",
       "\n",
       "       Potential  AccessoryRatio          NSB     CPLow  Days  NrOfOrder  \\\n",
       "58     894184.02        0.154561   4595239.07  4.665007     5         17   \n",
       "76   19361310.00        0.245075   8248682.32  4.345662    12        342   \n",
       "185  68674149.97        0.073211  42934480.52  1.957098     1       1721   \n",
       "433  21012465.00        0.162918   2241556.43  2.696011     1        122   \n",
       "458  22590288.00        0.140020  25009054.49  5.312397     1       2522   \n",
       "\n",
       "    Software  \n",
       "58        No  \n",
       "76       Yes  \n",
       "185      Yes  \n",
       "433       No  \n",
       "458      Yes  "
      ]
     },
     "execution_count": 13,
     "metadata": {},
     "output_type": "execute_result"
    }
   ],
   "source": [
    "data[data['NSB'] > 2000000].head(5)"
   ]
  },
  {
   "cell_type": "markdown",
   "id": "4d247985",
   "metadata": {},
   "source": [
    "For CPLow, I found some extreme values that I choose to remove."
   ]
  },
  {
   "cell_type": "code",
   "execution_count": 14,
   "id": "38eed4a4",
   "metadata": {},
   "outputs": [],
   "source": [
    "data = data[data['CPLow'] < 1000].reset_index(drop = True)"
   ]
  },
  {
   "cell_type": "markdown",
   "id": "19810b38",
   "metadata": {},
   "source": [
    "### Categorical variables"
   ]
  },
  {
   "cell_type": "markdown",
   "id": "af140506",
   "metadata": {},
   "source": [
    "Now, I will look at the categorical variables."
   ]
  },
  {
   "cell_type": "code",
   "execution_count": 15,
   "id": "cba6dd7f",
   "metadata": {},
   "outputs": [
    {
     "name": "stdout",
     "output_type": "stream",
     "text": [
      "Categories for LineDiscount: ['No' 'Yes']\n",
      "\n",
      "\n",
      "Categories for CustomerUnit: ['SMB Small' 'Corporate' 'SMB Mid' 'SMB Large' 'Public' 'Home'\n",
      " 'Not Defined' 'IC - Intercompany']\n",
      "\n",
      "\n",
      "Categories for Country: ['Sweden' 'Finland' 'Norway' 'Denmark']\n",
      "\n",
      "\n",
      "Categories for Software: ['No' 'Yes']\n"
     ]
    }
   ],
   "source": [
    "print('Categories for LineDiscount:', data['LineDiscount'].unique())\n",
    "print('\\n')\n",
    "print('Categories for CustomerUnit:', data['CustomerUnit'].unique())\n",
    "print('\\n')\n",
    "print('Categories for Country:', data['Country'].unique())\n",
    "print('\\n')\n",
    "print('Categories for Software:', data['Software'].unique())"
   ]
  },
  {
   "cell_type": "markdown",
   "id": "07dd9318",
   "metadata": {},
   "source": [
    "AccountManager has 202 different categories. I will redefine this variable to \"Yes\" if the customer has an account manager and \"No\" otherwise. I will do this to reduce the number of categories but still keep the information if the customer has an account manager or not. "
   ]
  },
  {
   "cell_type": "code",
   "execution_count": 16,
   "id": "222c14a3",
   "metadata": {},
   "outputs": [
    {
     "data": {
      "text/plain": [
       "Unassigned_SE            10233\n",
       "Unassigned_DK             3496\n",
       "Unassigned_NO             2069\n",
       "Mid - Segmentet            949\n",
       "Not Defined                579\n",
       "                         ...  \n",
       "Mats Audas                   1\n",
       "Liv Janne Berg               1\n",
       "Bente Grønberg Møller        1\n",
       "Pablo Gonzalez               1\n",
       "Andreas Lantz                1\n",
       "Name: AccountManager, Length: 202, dtype: int64"
      ]
     },
     "execution_count": 16,
     "metadata": {},
     "output_type": "execute_result"
    }
   ],
   "source": [
    "data['AccountManager'].value_counts()"
   ]
  },
  {
   "cell_type": "code",
   "execution_count": 17,
   "id": "d87ae6f7",
   "metadata": {},
   "outputs": [],
   "source": [
    "data = data.replace({'AccountManager' : {'Unassigned_SE' : 'No', 'Unassigned_DK' : 'No', 'Unassigned_NO' : 'No',\n",
    "                                        'Not Defined' : 'No'}})\n",
    "data.loc[data['AccountManager'] != 'No', 'AccountManager'] = 'Yes'"
   ]
  },
  {
   "cell_type": "code",
   "execution_count": 18,
   "id": "c9040d48",
   "metadata": {
    "scrolled": true
   },
   "outputs": [
    {
     "name": "stdout",
     "output_type": "stream",
     "text": [
      "Categories for AccountManager: ['No' 'Yes']\n"
     ]
    }
   ],
   "source": [
    "print('Categories for AccountManager:', data['AccountManager'].unique())"
   ]
  },
  {
   "cell_type": "markdown",
   "id": "174c6026",
   "metadata": {},
   "source": [
    "In order to keep the categorical values in the data set that I will use to train the machine learning model I need to translate them into numeric variables. I will do this by creating dummy variables. I will make dummy variables for all categorical variables except Software since this is the varibale we want to predict."
   ]
  },
  {
   "cell_type": "code",
   "execution_count": 19,
   "id": "ae960a68",
   "metadata": {},
   "outputs": [],
   "source": [
    "dummy_data = pd.get_dummies(data[['LineDiscount', 'CustomerUnit', 'Country', 'AccountManager']], drop_first = False)"
   ]
  },
  {
   "cell_type": "code",
   "execution_count": 20,
   "id": "537a0bfb",
   "metadata": {},
   "outputs": [
    {
     "data": {
      "text/html": [
       "<div>\n",
       "<style scoped>\n",
       "    .dataframe tbody tr th:only-of-type {\n",
       "        vertical-align: middle;\n",
       "    }\n",
       "\n",
       "    .dataframe tbody tr th {\n",
       "        vertical-align: top;\n",
       "    }\n",
       "\n",
       "    .dataframe thead th {\n",
       "        text-align: right;\n",
       "    }\n",
       "</style>\n",
       "<table border=\"1\" class=\"dataframe\">\n",
       "  <thead>\n",
       "    <tr style=\"text-align: right;\">\n",
       "      <th></th>\n",
       "      <th>LineDiscount_No</th>\n",
       "      <th>LineDiscount_Yes</th>\n",
       "      <th>CustomerUnit_Corporate</th>\n",
       "      <th>CustomerUnit_Home</th>\n",
       "      <th>CustomerUnit_IC - Intercompany</th>\n",
       "      <th>CustomerUnit_Not Defined</th>\n",
       "      <th>CustomerUnit_Public</th>\n",
       "      <th>CustomerUnit_SMB Large</th>\n",
       "      <th>CustomerUnit_SMB Mid</th>\n",
       "      <th>CustomerUnit_SMB Small</th>\n",
       "      <th>Country_Denmark</th>\n",
       "      <th>Country_Finland</th>\n",
       "      <th>Country_Norway</th>\n",
       "      <th>Country_Sweden</th>\n",
       "      <th>AccountManager_No</th>\n",
       "      <th>AccountManager_Yes</th>\n",
       "    </tr>\n",
       "  </thead>\n",
       "  <tbody>\n",
       "    <tr>\n",
       "      <th>0</th>\n",
       "      <td>1</td>\n",
       "      <td>0</td>\n",
       "      <td>0</td>\n",
       "      <td>0</td>\n",
       "      <td>0</td>\n",
       "      <td>0</td>\n",
       "      <td>0</td>\n",
       "      <td>0</td>\n",
       "      <td>0</td>\n",
       "      <td>1</td>\n",
       "      <td>0</td>\n",
       "      <td>0</td>\n",
       "      <td>0</td>\n",
       "      <td>1</td>\n",
       "      <td>1</td>\n",
       "      <td>0</td>\n",
       "    </tr>\n",
       "    <tr>\n",
       "      <th>1</th>\n",
       "      <td>1</td>\n",
       "      <td>0</td>\n",
       "      <td>0</td>\n",
       "      <td>0</td>\n",
       "      <td>0</td>\n",
       "      <td>0</td>\n",
       "      <td>0</td>\n",
       "      <td>0</td>\n",
       "      <td>0</td>\n",
       "      <td>1</td>\n",
       "      <td>0</td>\n",
       "      <td>1</td>\n",
       "      <td>0</td>\n",
       "      <td>0</td>\n",
       "      <td>1</td>\n",
       "      <td>0</td>\n",
       "    </tr>\n",
       "    <tr>\n",
       "      <th>2</th>\n",
       "      <td>1</td>\n",
       "      <td>0</td>\n",
       "      <td>0</td>\n",
       "      <td>0</td>\n",
       "      <td>0</td>\n",
       "      <td>0</td>\n",
       "      <td>0</td>\n",
       "      <td>0</td>\n",
       "      <td>0</td>\n",
       "      <td>1</td>\n",
       "      <td>0</td>\n",
       "      <td>0</td>\n",
       "      <td>0</td>\n",
       "      <td>1</td>\n",
       "      <td>1</td>\n",
       "      <td>0</td>\n",
       "    </tr>\n",
       "    <tr>\n",
       "      <th>3</th>\n",
       "      <td>0</td>\n",
       "      <td>1</td>\n",
       "      <td>1</td>\n",
       "      <td>0</td>\n",
       "      <td>0</td>\n",
       "      <td>0</td>\n",
       "      <td>0</td>\n",
       "      <td>0</td>\n",
       "      <td>0</td>\n",
       "      <td>0</td>\n",
       "      <td>0</td>\n",
       "      <td>0</td>\n",
       "      <td>0</td>\n",
       "      <td>1</td>\n",
       "      <td>0</td>\n",
       "      <td>1</td>\n",
       "    </tr>\n",
       "    <tr>\n",
       "      <th>4</th>\n",
       "      <td>1</td>\n",
       "      <td>0</td>\n",
       "      <td>0</td>\n",
       "      <td>0</td>\n",
       "      <td>0</td>\n",
       "      <td>0</td>\n",
       "      <td>0</td>\n",
       "      <td>0</td>\n",
       "      <td>1</td>\n",
       "      <td>0</td>\n",
       "      <td>0</td>\n",
       "      <td>0</td>\n",
       "      <td>1</td>\n",
       "      <td>0</td>\n",
       "      <td>1</td>\n",
       "      <td>0</td>\n",
       "    </tr>\n",
       "  </tbody>\n",
       "</table>\n",
       "</div>"
      ],
      "text/plain": [
       "   LineDiscount_No  LineDiscount_Yes  CustomerUnit_Corporate  \\\n",
       "0                1                 0                       0   \n",
       "1                1                 0                       0   \n",
       "2                1                 0                       0   \n",
       "3                0                 1                       1   \n",
       "4                1                 0                       0   \n",
       "\n",
       "   CustomerUnit_Home  CustomerUnit_IC - Intercompany  \\\n",
       "0                  0                               0   \n",
       "1                  0                               0   \n",
       "2                  0                               0   \n",
       "3                  0                               0   \n",
       "4                  0                               0   \n",
       "\n",
       "   CustomerUnit_Not Defined  CustomerUnit_Public  CustomerUnit_SMB Large  \\\n",
       "0                         0                    0                       0   \n",
       "1                         0                    0                       0   \n",
       "2                         0                    0                       0   \n",
       "3                         0                    0                       0   \n",
       "4                         0                    0                       0   \n",
       "\n",
       "   CustomerUnit_SMB Mid  CustomerUnit_SMB Small  Country_Denmark  \\\n",
       "0                     0                       1                0   \n",
       "1                     0                       1                0   \n",
       "2                     0                       1                0   \n",
       "3                     0                       0                0   \n",
       "4                     1                       0                0   \n",
       "\n",
       "   Country_Finland  Country_Norway  Country_Sweden  AccountManager_No  \\\n",
       "0                0               0               1                  1   \n",
       "1                1               0               0                  1   \n",
       "2                0               0               1                  1   \n",
       "3                0               0               1                  0   \n",
       "4                0               1               0                  1   \n",
       "\n",
       "   AccountManager_Yes  \n",
       "0                   0  \n",
       "1                   0  \n",
       "2                   0  \n",
       "3                   1  \n",
       "4                   0  "
      ]
     },
     "execution_count": 20,
     "metadata": {},
     "output_type": "execute_result"
    }
   ],
   "source": [
    "dummy_data.head()"
   ]
  },
  {
   "cell_type": "markdown",
   "id": "803d0119",
   "metadata": {},
   "source": [
    "Now, I will concat the numerical variables and the dummy variables to the final data set."
   ]
  },
  {
   "cell_type": "code",
   "execution_count": 21,
   "id": "cea4e962",
   "metadata": {},
   "outputs": [],
   "source": [
    "numeric_data = data[['Software','NoOfEmployees', 'Potential', 'AccessoryRatio', 'NSB', 'Days', 'NrOfOrder']]\n",
    "final_data = pd.concat([numeric_data, dummy_data], axis = 1)"
   ]
  },
  {
   "cell_type": "code",
   "execution_count": 22,
   "id": "945e404f",
   "metadata": {},
   "outputs": [
    {
     "data": {
      "text/html": [
       "<div>\n",
       "<style scoped>\n",
       "    .dataframe tbody tr th:only-of-type {\n",
       "        vertical-align: middle;\n",
       "    }\n",
       "\n",
       "    .dataframe tbody tr th {\n",
       "        vertical-align: top;\n",
       "    }\n",
       "\n",
       "    .dataframe thead th {\n",
       "        text-align: right;\n",
       "    }\n",
       "</style>\n",
       "<table border=\"1\" class=\"dataframe\">\n",
       "  <thead>\n",
       "    <tr style=\"text-align: right;\">\n",
       "      <th></th>\n",
       "      <th>Software</th>\n",
       "      <th>NoOfEmployees</th>\n",
       "      <th>Potential</th>\n",
       "      <th>AccessoryRatio</th>\n",
       "      <th>NSB</th>\n",
       "      <th>Days</th>\n",
       "      <th>NrOfOrder</th>\n",
       "      <th>LineDiscount_No</th>\n",
       "      <th>LineDiscount_Yes</th>\n",
       "      <th>CustomerUnit_Corporate</th>\n",
       "      <th>...</th>\n",
       "      <th>CustomerUnit_Public</th>\n",
       "      <th>CustomerUnit_SMB Large</th>\n",
       "      <th>CustomerUnit_SMB Mid</th>\n",
       "      <th>CustomerUnit_SMB Small</th>\n",
       "      <th>Country_Denmark</th>\n",
       "      <th>Country_Finland</th>\n",
       "      <th>Country_Norway</th>\n",
       "      <th>Country_Sweden</th>\n",
       "      <th>AccountManager_No</th>\n",
       "      <th>AccountManager_Yes</th>\n",
       "    </tr>\n",
       "  </thead>\n",
       "  <tbody>\n",
       "    <tr>\n",
       "      <th>0</th>\n",
       "      <td>No</td>\n",
       "      <td>1.0</td>\n",
       "      <td>0.0</td>\n",
       "      <td>1.000000</td>\n",
       "      <td>4399.00</td>\n",
       "      <td>518</td>\n",
       "      <td>1</td>\n",
       "      <td>1</td>\n",
       "      <td>0</td>\n",
       "      <td>0</td>\n",
       "      <td>...</td>\n",
       "      <td>0</td>\n",
       "      <td>0</td>\n",
       "      <td>0</td>\n",
       "      <td>1</td>\n",
       "      <td>0</td>\n",
       "      <td>0</td>\n",
       "      <td>0</td>\n",
       "      <td>1</td>\n",
       "      <td>1</td>\n",
       "      <td>0</td>\n",
       "    </tr>\n",
       "    <tr>\n",
       "      <th>1</th>\n",
       "      <td>No</td>\n",
       "      <td>2.0</td>\n",
       "      <td>0.0</td>\n",
       "      <td>0.320656</td>\n",
       "      <td>873.24</td>\n",
       "      <td>432</td>\n",
       "      <td>1</td>\n",
       "      <td>1</td>\n",
       "      <td>0</td>\n",
       "      <td>0</td>\n",
       "      <td>...</td>\n",
       "      <td>0</td>\n",
       "      <td>0</td>\n",
       "      <td>0</td>\n",
       "      <td>1</td>\n",
       "      <td>0</td>\n",
       "      <td>1</td>\n",
       "      <td>0</td>\n",
       "      <td>0</td>\n",
       "      <td>1</td>\n",
       "      <td>0</td>\n",
       "    </tr>\n",
       "    <tr>\n",
       "      <th>2</th>\n",
       "      <td>No</td>\n",
       "      <td>2.0</td>\n",
       "      <td>16956.0</td>\n",
       "      <td>0.053654</td>\n",
       "      <td>22272.00</td>\n",
       "      <td>173</td>\n",
       "      <td>2</td>\n",
       "      <td>1</td>\n",
       "      <td>0</td>\n",
       "      <td>0</td>\n",
       "      <td>...</td>\n",
       "      <td>0</td>\n",
       "      <td>0</td>\n",
       "      <td>0</td>\n",
       "      <td>1</td>\n",
       "      <td>0</td>\n",
       "      <td>0</td>\n",
       "      <td>0</td>\n",
       "      <td>1</td>\n",
       "      <td>1</td>\n",
       "      <td>0</td>\n",
       "    </tr>\n",
       "    <tr>\n",
       "      <th>3</th>\n",
       "      <td>No</td>\n",
       "      <td>50.0</td>\n",
       "      <td>448601.0</td>\n",
       "      <td>0.607573</td>\n",
       "      <td>44568.89</td>\n",
       "      <td>4</td>\n",
       "      <td>41</td>\n",
       "      <td>0</td>\n",
       "      <td>1</td>\n",
       "      <td>1</td>\n",
       "      <td>...</td>\n",
       "      <td>0</td>\n",
       "      <td>0</td>\n",
       "      <td>0</td>\n",
       "      <td>0</td>\n",
       "      <td>0</td>\n",
       "      <td>0</td>\n",
       "      <td>0</td>\n",
       "      <td>1</td>\n",
       "      <td>0</td>\n",
       "      <td>1</td>\n",
       "    </tr>\n",
       "    <tr>\n",
       "      <th>4</th>\n",
       "      <td>No</td>\n",
       "      <td>68.0</td>\n",
       "      <td>0.0</td>\n",
       "      <td>0.000000</td>\n",
       "      <td>975.06</td>\n",
       "      <td>704</td>\n",
       "      <td>1</td>\n",
       "      <td>1</td>\n",
       "      <td>0</td>\n",
       "      <td>0</td>\n",
       "      <td>...</td>\n",
       "      <td>0</td>\n",
       "      <td>0</td>\n",
       "      <td>1</td>\n",
       "      <td>0</td>\n",
       "      <td>0</td>\n",
       "      <td>0</td>\n",
       "      <td>1</td>\n",
       "      <td>0</td>\n",
       "      <td>1</td>\n",
       "      <td>0</td>\n",
       "    </tr>\n",
       "  </tbody>\n",
       "</table>\n",
       "<p>5 rows × 23 columns</p>\n",
       "</div>"
      ],
      "text/plain": [
       "  Software  NoOfEmployees  Potential  AccessoryRatio       NSB  Days  \\\n",
       "0       No            1.0        0.0        1.000000   4399.00   518   \n",
       "1       No            2.0        0.0        0.320656    873.24   432   \n",
       "2       No            2.0    16956.0        0.053654  22272.00   173   \n",
       "3       No           50.0   448601.0        0.607573  44568.89     4   \n",
       "4       No           68.0        0.0        0.000000    975.06   704   \n",
       "\n",
       "   NrOfOrder  LineDiscount_No  LineDiscount_Yes  CustomerUnit_Corporate  ...  \\\n",
       "0          1                1                 0                       0  ...   \n",
       "1          1                1                 0                       0  ...   \n",
       "2          2                1                 0                       0  ...   \n",
       "3         41                0                 1                       1  ...   \n",
       "4          1                1                 0                       0  ...   \n",
       "\n",
       "   CustomerUnit_Public  CustomerUnit_SMB Large  CustomerUnit_SMB Mid  \\\n",
       "0                    0                       0                     0   \n",
       "1                    0                       0                     0   \n",
       "2                    0                       0                     0   \n",
       "3                    0                       0                     0   \n",
       "4                    0                       0                     1   \n",
       "\n",
       "   CustomerUnit_SMB Small  Country_Denmark  Country_Finland  Country_Norway  \\\n",
       "0                       1                0                0               0   \n",
       "1                       1                0                1               0   \n",
       "2                       1                0                0               0   \n",
       "3                       0                0                0               0   \n",
       "4                       0                0                0               1   \n",
       "\n",
       "   Country_Sweden  AccountManager_No  AccountManager_Yes  \n",
       "0               1                  1                   0  \n",
       "1               0                  1                   0  \n",
       "2               1                  1                   0  \n",
       "3               1                  0                   1  \n",
       "4               0                  1                   0  \n",
       "\n",
       "[5 rows x 23 columns]"
      ]
     },
     "execution_count": 22,
     "metadata": {},
     "output_type": "execute_result"
    }
   ],
   "source": [
    "final_data.head()"
   ]
  },
  {
   "cell_type": "markdown",
   "id": "4a4a8676",
   "metadata": {},
   "source": [
    "The final data set has 20 107 observations and 23 columns."
   ]
  },
  {
   "cell_type": "code",
   "execution_count": 23,
   "id": "039966d8",
   "metadata": {},
   "outputs": [
    {
     "data": {
      "text/plain": [
       "(20107, 23)"
      ]
     },
     "execution_count": 23,
     "metadata": {},
     "output_type": "execute_result"
    }
   ],
   "source": [
    "final_data.shape"
   ]
  },
  {
   "cell_type": "markdown",
   "id": "e28ce795",
   "metadata": {},
   "source": [
    "# Training models"
   ]
  },
  {
   "cell_type": "markdown",
   "id": "25d9d2ea",
   "metadata": {},
   "source": [
    "After exploring and preparing the data, I now have a final data set I will use for modeling. \n",
    "\n",
    "When using machine learning models for classification it is important that the dataset is balanced. That is, the dataset contains, in this case, approximately the same amount of customers that bought the software product and customer that did not buy the software product. If that is the case, one could just split the dataset into a training and test set and go ahead with modeling. However, this data set is unbalanced, approximately 80% of the data points belongs to customer that did not buy the software product. Therefore it is important to balance the classes in the training data. This is done in order for the model to learn about the minority class which in this case would be the customers that did buy the product. To balance the data, I will use Synthetic Minority Over-Sampling Technique (SMOTE). SMOTE generates synthetic data points based on the original data where the minority class is oversampled. The advantage with SMOTE is that the data points are not duplicated, instead you are creating synthetic data points that are slightly different from the original data points."
   ]
  },
  {
   "cell_type": "markdown",
   "id": "b030f4cc",
   "metadata": {},
   "source": [
    "## Train test split"
   ]
  },
  {
   "cell_type": "markdown",
   "id": "7c045f20",
   "metadata": {},
   "source": [
    "I will begin by randomly splitting the data set into a training set and a test set. The training set will contain 70% of the samples and the test set would contain 30% of the samples. I will then use SMOTE to balance the training data."
   ]
  },
  {
   "cell_type": "code",
   "execution_count": 24,
   "id": "32b4085c",
   "metadata": {},
   "outputs": [],
   "source": [
    "from sklearn.model_selection import train_test_split\n",
    "from imblearn.over_sampling import SMOTE\n",
    "\n",
    "# Train test split\n",
    "y = final_data['Software']\n",
    "X = final_data.drop(columns = 'Software')\n",
    "\n",
    "X_train, X_test, y_train, y_test = train_test_split(X, y, test_size = 0.3, random_state = 101)\n",
    "\n",
    "# SMOTE\n",
    "smote = SMOTE(random_state = 101)\n",
    "X_train_smote, y_train_smote = smote.fit_resample(X_train, y_train)"
   ]
  },
  {
   "cell_type": "code",
   "execution_count": 25,
   "id": "1c13c0b4",
   "metadata": {},
   "outputs": [
    {
     "data": {
      "text/plain": [
       "No     11623\n",
       "Yes    11623\n",
       "Name: Software, dtype: int64"
      ]
     },
     "execution_count": 25,
     "metadata": {},
     "output_type": "execute_result"
    }
   ],
   "source": [
    "y_train_smote.value_counts()"
   ]
  },
  {
   "cell_type": "markdown",
   "id": "8876b796",
   "metadata": {},
   "source": [
    "## Fitting models"
   ]
  },
  {
   "cell_type": "markdown",
   "id": "aa419ea4",
   "metadata": {},
   "source": [
    "Next step is to fit the training set to some selected models. In this case I would begin with fitting the training set to a Logistic Regression, a Random Forest Classifier and a Support Vector Machines. The test set will be saved and used to evaluate the performance of the models. \n",
    "\n",
    "I will begin to fit “baseline” models using the default values of the hyperparameters given by the functions. I will evaluate the performance of the models looking at the accuracy and classification report."
   ]
  },
  {
   "cell_type": "code",
   "execution_count": 53,
   "id": "9d0cfbd4",
   "metadata": {},
   "outputs": [],
   "source": [
    "# Logistic regression\n",
    "from sklearn.linear_model import LogisticRegression\n",
    "\n",
    "log_clf = LogisticRegression()\n",
    "log_clf.fit(X_train_smote, y_train_smote)\n",
    "log_pred = log_clf.predict(X_test)\n",
    "\n",
    "# Random forest classification\n",
    "from sklearn.ensemble import RandomForestClassifier\n",
    "\n",
    "rf_clf = RandomForestClassifier(random_state = 101)\n",
    "rf_clf.fit(X_train_smote, y_train_smote)\n",
    "rf_pred = rf_clf.predict(X_test)\n",
    "\n",
    "# Support vector machines\n",
    "from sklearn.svm import SVC\n",
    "\n",
    "svm_clf = SVC(random_state = 101)\n",
    "svm_clf.fit(X_train_smote, y_train_smote)\n",
    "svm_pred = svm_clf.predict(X_test)"
   ]
  },
  {
   "cell_type": "code",
   "execution_count": 54,
   "id": "7d51de08",
   "metadata": {},
   "outputs": [
    {
     "name": "stdout",
     "output_type": "stream",
     "text": [
      "Accuracy of the logistic regression is: 0.19\n",
      "Classification report for logistic regression:\n",
      "               precision    recall  f1-score   support\n",
      "\n",
      "          No       0.92      0.02      0.04      5012\n",
      "         Yes       0.17      0.99      0.29      1021\n",
      "\n",
      "    accuracy                           0.19      6033\n",
      "   macro avg       0.54      0.51      0.17      6033\n",
      "weighted avg       0.79      0.19      0.08      6033\n",
      "\n",
      "Confusion matrix for logistic regression:\n",
      " [[ 108 4904]\n",
      " [  10 1011]]\n",
      "\n",
      "\n",
      "Accuracy of the random forest classifier is: 0.81\n",
      "Classification report for random forest classifier:\n",
      "               precision    recall  f1-score   support\n",
      "\n",
      "          No       0.89      0.89      0.89      5012\n",
      "         Yes       0.45      0.44      0.44      1021\n",
      "\n",
      "    accuracy                           0.81      6033\n",
      "   macro avg       0.67      0.66      0.67      6033\n",
      "weighted avg       0.81      0.81      0.81      6033\n",
      "\n",
      "Confusion matrix for randomforest classifier:\n",
      " [[4463  549]\n",
      " [ 573  448]]\n",
      "\n",
      "\n",
      "Accuracy of the support vector machines is: 0.84\n",
      "Classification report for support vector machines:\n",
      "               precision    recall  f1-score   support\n",
      "\n",
      "          No       0.87      0.96      0.91      5012\n",
      "         Yes       0.56      0.28      0.37      1021\n",
      "\n",
      "    accuracy                           0.84      6033\n",
      "   macro avg       0.71      0.62      0.64      6033\n",
      "weighted avg       0.81      0.84      0.82      6033\n",
      "\n",
      "Confusion matrix for support vector machines:\n",
      " [[4787  225]\n",
      " [ 736  285]]\n"
     ]
    }
   ],
   "source": [
    "from sklearn.metrics import accuracy_score\n",
    "from sklearn.metrics import confusion_matrix\n",
    "from sklearn.metrics import classification_report\n",
    "\n",
    "# Metrics Logistic regression\n",
    "print(f\"Accuracy of the logistic regression is: {round(accuracy_score(y_test, log_pred), 2)}\")\n",
    "print(f\"Classification report for logistic regression:\\n {classification_report(y_test, log_pred)}\")\n",
    "print(f\"Confusion matrix for logistic regression:\\n {confusion_matrix(y_test, log_pred)}\")\n",
    "print('\\n')\n",
    "\n",
    "# Metrics Random forest classifier\n",
    "print(f\"Accuracy of the random forest classifier is: {round(accuracy_score(y_test, rf_pred), 2)}\")\n",
    "print(f\"Classification report for random forest classifier:\\n {classification_report(y_test, rf_pred)}\")\n",
    "print(f\"Confusion matrix for randomforest classifier:\\n {confusion_matrix(y_test, rf_pred)}\")\n",
    "print('\\n')\n",
    "\n",
    "# Metrics Support vector machine\n",
    "print(f\"Accuracy of the support vector machines is: {round(accuracy_score(y_test, svm_pred), 2)}\")\n",
    "print(f\"Classification report for support vector machines:\\n {classification_report(y_test, svm_pred)}\")\n",
    "print(f\"Confusion matrix for support vector machines:\\n {confusion_matrix(y_test, svm_pred)}\")"
   ]
  },
  {
   "cell_type": "markdown",
   "id": "f7a9d6ca",
   "metadata": {},
   "source": [
    "The logistic regression model performed very poorly. It is possible that this model is too \"simple\" for this problem. Both the random forest and SVM have a accuracy over 0.8 which is good. However, the precision, recall and f1-score is not so good fo both models for the \"Yes\" class. We can see in the confusion matrix that both the random forest and SVM have more false negatives than true negatives, that is the models predicts 'No' for the 'Yes' class more often than it actually predicts correct for the 'Yes' class."
   ]
  },
  {
   "cell_type": "markdown",
   "id": "02286234",
   "metadata": {},
   "source": [
    "## Grid search"
   ]
  },
  {
   "cell_type": "markdown",
   "id": "b1fc4e8f",
   "metadata": {},
   "source": [
    "To optimize the performance of the models I will tune the hyperparameters using GridSearchCV from Scikit-learn. GridSearchCV is the process of performing hyperparameter tuning in order to determine the optimal values for a given model. GridSearchCV trains the models using different combinations of values of the hyperparameters and will return the model with the best performance. This method uses Cross-Validation when training the models. Tuning hyperparameters and evaluating the model only on the training set can lead to overfitting. That is, the model performs really well on the training set but will not be able to generalize on new data, such as the test set. Using cross-validation is a common way of dealing with overfitting when tuning the hyperparameters. \n",
    "\n",
    "I choose to do the grid search on the random forest since I beleive it will perform the best among the baseline models.\n",
    "\n",
    "Using grid search to find the hyperparameters that results in the best performing model is a time consuming task as you have to fit a model for each combination of the hyperparameter values specified in the parameter grid. Therefore, I choose to perform the grid search only on a random sample from the training set to speed up the process."
   ]
  },
  {
   "cell_type": "code",
   "execution_count": 55,
   "id": "0620732f",
   "metadata": {},
   "outputs": [],
   "source": [
    "training_set = pd.concat([y_train_smote, X_train_smote], axis = 1)\n",
    "training_sample = training_set.sample(2000)\n",
    "\n",
    "X_train_sample = training_sample.drop(columns = 'Software')\n",
    "y_train_sample = training_sample['Software']"
   ]
  },
  {
   "cell_type": "code",
   "execution_count": 56,
   "id": "b88d8483",
   "metadata": {},
   "outputs": [
    {
     "data": {
      "text/html": [
       "<style>#sk-container-id-6 {color: black;background-color: white;}#sk-container-id-6 pre{padding: 0;}#sk-container-id-6 div.sk-toggleable {background-color: white;}#sk-container-id-6 label.sk-toggleable__label {cursor: pointer;display: block;width: 100%;margin-bottom: 0;padding: 0.3em;box-sizing: border-box;text-align: center;}#sk-container-id-6 label.sk-toggleable__label-arrow:before {content: \"▸\";float: left;margin-right: 0.25em;color: #696969;}#sk-container-id-6 label.sk-toggleable__label-arrow:hover:before {color: black;}#sk-container-id-6 div.sk-estimator:hover label.sk-toggleable__label-arrow:before {color: black;}#sk-container-id-6 div.sk-toggleable__content {max-height: 0;max-width: 0;overflow: hidden;text-align: left;background-color: #f0f8ff;}#sk-container-id-6 div.sk-toggleable__content pre {margin: 0.2em;color: black;border-radius: 0.25em;background-color: #f0f8ff;}#sk-container-id-6 input.sk-toggleable__control:checked~div.sk-toggleable__content {max-height: 200px;max-width: 100%;overflow: auto;}#sk-container-id-6 input.sk-toggleable__control:checked~label.sk-toggleable__label-arrow:before {content: \"▾\";}#sk-container-id-6 div.sk-estimator input.sk-toggleable__control:checked~label.sk-toggleable__label {background-color: #d4ebff;}#sk-container-id-6 div.sk-label input.sk-toggleable__control:checked~label.sk-toggleable__label {background-color: #d4ebff;}#sk-container-id-6 input.sk-hidden--visually {border: 0;clip: rect(1px 1px 1px 1px);clip: rect(1px, 1px, 1px, 1px);height: 1px;margin: -1px;overflow: hidden;padding: 0;position: absolute;width: 1px;}#sk-container-id-6 div.sk-estimator {font-family: monospace;background-color: #f0f8ff;border: 1px dotted black;border-radius: 0.25em;box-sizing: border-box;margin-bottom: 0.5em;}#sk-container-id-6 div.sk-estimator:hover {background-color: #d4ebff;}#sk-container-id-6 div.sk-parallel-item::after {content: \"\";width: 100%;border-bottom: 1px solid gray;flex-grow: 1;}#sk-container-id-6 div.sk-label:hover label.sk-toggleable__label {background-color: #d4ebff;}#sk-container-id-6 div.sk-serial::before {content: \"\";position: absolute;border-left: 1px solid gray;box-sizing: border-box;top: 0;bottom: 0;left: 50%;z-index: 0;}#sk-container-id-6 div.sk-serial {display: flex;flex-direction: column;align-items: center;background-color: white;padding-right: 0.2em;padding-left: 0.2em;position: relative;}#sk-container-id-6 div.sk-item {position: relative;z-index: 1;}#sk-container-id-6 div.sk-parallel {display: flex;align-items: stretch;justify-content: center;background-color: white;position: relative;}#sk-container-id-6 div.sk-item::before, #sk-container-id-6 div.sk-parallel-item::before {content: \"\";position: absolute;border-left: 1px solid gray;box-sizing: border-box;top: 0;bottom: 0;left: 50%;z-index: -1;}#sk-container-id-6 div.sk-parallel-item {display: flex;flex-direction: column;z-index: 1;position: relative;background-color: white;}#sk-container-id-6 div.sk-parallel-item:first-child::after {align-self: flex-end;width: 50%;}#sk-container-id-6 div.sk-parallel-item:last-child::after {align-self: flex-start;width: 50%;}#sk-container-id-6 div.sk-parallel-item:only-child::after {width: 0;}#sk-container-id-6 div.sk-dashed-wrapped {border: 1px dashed gray;margin: 0 0.4em 0.5em 0.4em;box-sizing: border-box;padding-bottom: 0.4em;background-color: white;}#sk-container-id-6 div.sk-label label {font-family: monospace;font-weight: bold;display: inline-block;line-height: 1.2em;}#sk-container-id-6 div.sk-label-container {text-align: center;}#sk-container-id-6 div.sk-container {/* jupyter's `normalize.less` sets `[hidden] { display: none; }` but bootstrap.min.css set `[hidden] { display: none !important; }` so we also need the `!important` here to be able to override the default hidden behavior on the sphinx rendered scikit-learn.org. See: https://github.com/scikit-learn/scikit-learn/issues/21755 */display: inline-block !important;position: relative;}#sk-container-id-6 div.sk-text-repr-fallback {display: none;}</style><div id=\"sk-container-id-6\" class=\"sk-top-container\"><div class=\"sk-text-repr-fallback\"><pre>GridSearchCV(estimator=RandomForestClassifier(random_state=101), n_jobs=-1,\n",
       "             param_grid={&#x27;max_depth&#x27;: [100, 500, None],\n",
       "                         &#x27;min_samples_split&#x27;: [2],\n",
       "                         &#x27;n_estimators&#x27;: [100, 500, 1000]})</pre><b>In a Jupyter environment, please rerun this cell to show the HTML representation or trust the notebook. <br />On GitHub, the HTML representation is unable to render, please try loading this page with nbviewer.org.</b></div><div class=\"sk-container\" hidden><div class=\"sk-item sk-dashed-wrapped\"><div class=\"sk-label-container\"><div class=\"sk-label sk-toggleable\"><input class=\"sk-toggleable__control sk-hidden--visually\" id=\"sk-estimator-id-16\" type=\"checkbox\" ><label for=\"sk-estimator-id-16\" class=\"sk-toggleable__label sk-toggleable__label-arrow\">GridSearchCV</label><div class=\"sk-toggleable__content\"><pre>GridSearchCV(estimator=RandomForestClassifier(random_state=101), n_jobs=-1,\n",
       "             param_grid={&#x27;max_depth&#x27;: [100, 500, None],\n",
       "                         &#x27;min_samples_split&#x27;: [2],\n",
       "                         &#x27;n_estimators&#x27;: [100, 500, 1000]})</pre></div></div></div><div class=\"sk-parallel\"><div class=\"sk-parallel-item\"><div class=\"sk-item\"><div class=\"sk-label-container\"><div class=\"sk-label sk-toggleable\"><input class=\"sk-toggleable__control sk-hidden--visually\" id=\"sk-estimator-id-17\" type=\"checkbox\" ><label for=\"sk-estimator-id-17\" class=\"sk-toggleable__label sk-toggleable__label-arrow\">estimator: RandomForestClassifier</label><div class=\"sk-toggleable__content\"><pre>RandomForestClassifier(random_state=101)</pre></div></div></div><div class=\"sk-serial\"><div class=\"sk-item\"><div class=\"sk-estimator sk-toggleable\"><input class=\"sk-toggleable__control sk-hidden--visually\" id=\"sk-estimator-id-18\" type=\"checkbox\" ><label for=\"sk-estimator-id-18\" class=\"sk-toggleable__label sk-toggleable__label-arrow\">RandomForestClassifier</label><div class=\"sk-toggleable__content\"><pre>RandomForestClassifier(random_state=101)</pre></div></div></div></div></div></div></div></div></div></div>"
      ],
      "text/plain": [
       "GridSearchCV(estimator=RandomForestClassifier(random_state=101), n_jobs=-1,\n",
       "             param_grid={'max_depth': [100, 500, None],\n",
       "                         'min_samples_split': [2],\n",
       "                         'n_estimators': [100, 500, 1000]})"
      ]
     },
     "execution_count": 56,
     "metadata": {},
     "output_type": "execute_result"
    }
   ],
   "source": [
    "from sklearn.model_selection import GridSearchCV\n",
    "\n",
    "rf_clf = RandomForestClassifier(random_state = 101)\n",
    "\n",
    "parameter_grid = {'n_estimators': [100, 500, 1000], \n",
    "              'max_depth': [100, 500, None],\n",
    "              'min_samples_split': [2]}\n",
    "\n",
    "gridsearch_rf_clf = GridSearchCV(estimator = rf_clf, param_grid = parameter_grid, n_jobs = -1)\n",
    "gridsearch_rf_clf.fit(X_train_sample, y_train_sample)"
   ]
  },
  {
   "cell_type": "code",
   "execution_count": 57,
   "id": "20ff765e",
   "metadata": {},
   "outputs": [
    {
     "name": "stdout",
     "output_type": "stream",
     "text": [
      "Best parameters: {'max_depth': 100, 'min_samples_split': 2, 'n_estimators': 1000}\n"
     ]
    }
   ],
   "source": [
    "print('Best parameters:', gridsearch_rf_clf.best_params_)"
   ]
  },
  {
   "cell_type": "markdown",
   "id": "fab8fb03",
   "metadata": {},
   "source": [
    "I tried different combinations of values for the hyperparameters and selected the model with the best performance. In a setting where you have more time to explore different combinations of the hyperparameter values, I would add more hyperparameters to the parameter grid. For this task I am satisfied with the values chosen by the grid search as I noticed that the performance of the model did not change much depending on the values of the hyperparameters."
   ]
  },
  {
   "cell_type": "markdown",
   "id": "8bd9d7ae",
   "metadata": {},
   "source": [
    "## Evaluation"
   ]
  },
  {
   "cell_type": "markdown",
   "id": "163d6202",
   "metadata": {},
   "source": [
    "I fit a random forest classifier with the parameter values provided by the grid search."
   ]
  },
  {
   "cell_type": "code",
   "execution_count": 58,
   "id": "29cf2de7",
   "metadata": {},
   "outputs": [
    {
     "name": "stdout",
     "output_type": "stream",
     "text": [
      "Accuracy of the random forest is: 0.81\n",
      "Classification report for random forest:\n",
      "               precision    recall  f1-score   support\n",
      "\n",
      "          No       0.89      0.89      0.89      5012\n",
      "         Yes       0.44      0.44      0.44      1021\n",
      "\n",
      "    accuracy                           0.81      6033\n",
      "   macro avg       0.66      0.66      0.66      6033\n",
      "weighted avg       0.81      0.81      0.81      6033\n",
      "\n",
      "Confusion matrix for random forest:\n",
      " [[4446  566]\n",
      " [ 570  451]]\n"
     ]
    }
   ],
   "source": [
    "rf_clf = RandomForestClassifier(random_state = 101, n_estimators = 1000, max_depth = 100, min_samples_split = 2)\n",
    "rf_clf.fit(X_train_smote, y_train_smote)\n",
    "rf_pred = rf_clf.predict(X_test)\n",
    "\n",
    "# Metrics Random forest\n",
    "print(f\"Accuracy of the random forest is: {round(accuracy_score(y_test, rf_pred), 2)}\")\n",
    "print(f\"Classification report for random forest:\\n {classification_report(y_test, rf_pred)}\")\n",
    "print(f\"Confusion matrix for random forest:\\n {confusion_matrix(y_test, rf_pred)}\")"
   ]
  },
  {
   "cell_type": "markdown",
   "id": "cd62646a",
   "metadata": {},
   "source": [
    "The model did not perform much better with the new values of the hyperparametes. The accuracy of the model is good, however there is still some problem with the precision, recall and f1-score for the 'Yes'-class. In reality this means that company X will miss out on potential buyers since alot of 'Yes'-customers are predicted as 'No'."
   ]
  }
 ],
 "metadata": {
  "kernelspec": {
   "display_name": "Python 3 (ipykernel)",
   "language": "python",
   "name": "python3"
  },
  "language_info": {
   "codemirror_mode": {
    "name": "ipython",
    "version": 3
   },
   "file_extension": ".py",
   "mimetype": "text/x-python",
   "name": "python",
   "nbconvert_exporter": "python",
   "pygments_lexer": "ipython3",
   "version": "3.9.7"
  }
 },
 "nbformat": 4,
 "nbformat_minor": 5
}
